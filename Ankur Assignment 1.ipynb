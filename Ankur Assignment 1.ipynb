{
 "cells": [
  {
   "cell_type": "code",
   "execution_count": null,
   "metadata": {},
   "outputs": [],
   "source": [
    "# This program will find all numbers between 2000 and 3200 which \n",
    "##are divisible by 7 but are not a multiple of 5 and the numbers\n",
    "###shall be printed in printed in a comma separated sequence in\n",
    "#### a single line"
   ]
  },
  {
   "cell_type": "code",
   "execution_count": 1,
   "metadata": {},
   "outputs": [],
   "source": [
    "a=[]"
   ]
  },
  {
   "cell_type": "code",
   "execution_count": 6,
   "metadata": {},
   "outputs": [
    {
     "name": "stdout",
     "output_type": "stream",
     "text": [
      "2002,2009,2016,2023,2037,2044,2051,2058,2072,2079,2086,2093,2107,2114,2121,2128,2142,2149,2156,2163,2177,2184,2191,2198,2212,2219,2226,2233,2247,2254,2261,2268,2282,2289,2296,2303,2317,2324,2331,2338,2352,2359,2366,2373,2387,2394,2401,2408,2422,2429,2436,2443,2457,2464,2471,2478,2492,2499,2506,2513,2527,2534,2541,2548,2562,2569,2576,2583,2597,2604,2611,2618,2632,2639,2646,2653,2667,2674,2681,2688,2702,2709,2716,2723,2737,2744,2751,2758,2772,2779,2786,2793,2807,2814,2821,2828,2842,2849,2856,2863,2877,2884,2891,2898,2912,2919,2926,2933,2947,2954,2961,2968,2982,2989,2996,3003,3017,3024,3031,3038,3052,3059,3066,3073,3087,3094,3101,3108,3122,3129,3136,3143,3157,3164,3171,3178,3192,3199\n"
     ]
    }
   ],
   "source": [
    "for x in range(2000,3200):\n",
    "    if (x%7==0) and (x%5 !=0):\n",
    "     a.append(str(x))\n",
    "print(','.join(a))"
   ]
  },
  {
   "cell_type": "markdown",
   "metadata": {},
   "source": [
    "# This part accepts user's first name and last name and prints in reverse order with a space between first name and last name\n"
   ]
  },
  {
   "cell_type": "code",
   "execution_count": 27,
   "metadata": {},
   "outputs": [
    {
     "name": "stdout",
     "output_type": "stream",
     "text": [
      "Enter your firstnameAnkur\n",
      "Enter your lastnameTripathi\n",
      "ruknA ihtapirT\n"
     ]
    }
   ],
   "source": [
    "b=input('Enter your firstname')\n",
    "c=input('Enter your lastname')\n",
    "e=reversed(b)\n",
    "f=reversed(c)\n",
    "\n",
    "def reversed(string): \n",
    "    string = string[::-1] \n",
    "    return string\n",
    "\n",
    "print(e +' '+ f)"
   ]
  },
  {
   "cell_type": "markdown",
   "metadata": {},
   "source": [
    "# This caluclates the volume of sphere with diameter 12 cm"
   ]
  },
  {
   "cell_type": "code",
   "execution_count": 28,
   "metadata": {},
   "outputs": [
    {
     "name": "stdout",
     "output_type": "stream",
     "text": [
      "Enter the diameter of the spehere 12\n",
      "905.1428571428573\n"
     ]
    }
   ],
   "source": [
    "d= int(input('Enter the diameter of the spehere '))\n",
    "r=float(d/2)\n",
    "V= float (4/3*22/7*r*r*r)\n",
    "print(V)"
   ]
  },
  {
   "cell_type": "markdown",
   "metadata": {},
   "source": [
    "# Gets a comma separeted input from console and generates a list"
   ]
  },
  {
   "cell_type": "code",
   "execution_count": 5,
   "metadata": {},
   "outputs": [
    {
     "name": "stdout",
     "output_type": "stream",
     "text": [
      "Enter comma separated numbers12,32,22,11,334,232\n",
      "The input numbers are 12,32,22,11,334,232\n",
      "[12, 32, 22, 11, 334, 232]\n",
      "<class 'list'>\n"
     ]
    }
   ],
   "source": [
    "x= str(input('Enter comma separated numbers'))\n",
    "print('The input numbers are',x)\n",
    "y=[]\n",
    "list=x.split(',')\n",
    "for i in list:\n",
    "    y.append(int(i))\n",
    "    \n",
    "print(y)\n",
    "print(type(y))\n"
   ]
  },
  {
   "cell_type": "markdown",
   "metadata": {},
   "source": [
    "# Creates a pattern using nested for loops"
   ]
  },
  {
   "cell_type": "code",
   "execution_count": 6,
   "metadata": {},
   "outputs": [
    {
     "name": "stdout",
     "output_type": "stream",
     "text": [
      "*\n",
      "**\n",
      "***\n",
      "****\n",
      "*****\n",
      "****\n",
      "***\n",
      "**\n",
      "*\n",
      "\n"
     ]
    }
   ],
   "source": [
    "i=0\n",
    "j=5\n",
    "for i in range (0,5):\n",
    "    i=i+1\n",
    "    print('*'*i)\n",
    "for j in range (5,0,-1):\n",
    "    j=j-1\n",
    "    print('*'*j)       \n",
    "    \n",
    "    \n",
    "\n",
    "\n"
   ]
  },
  {
   "cell_type": "markdown",
   "metadata": {},
   "source": [
    "# This program reverses a word after getting the input from user"
   ]
  },
  {
   "cell_type": "code",
   "execution_count": 7,
   "metadata": {},
   "outputs": [
    {
     "name": "stdout",
     "output_type": "stream",
     "text": [
      "Enter a word to be reversedAssam\n",
      "massA\n"
     ]
    }
   ],
   "source": [
    "w= input('Enter a word to be reversed')\n",
    "\n",
    "def reversed(string): \n",
    "    string = string[::-1] \n",
    "    return string\n",
    "z= reversed (w)\n",
    "print(z)"
   ]
  },
  {
   "cell_type": "markdown",
   "metadata": {},
   "source": [
    "# Print the given sentence in the desired format"
   ]
  },
  {
   "cell_type": "code",
   "execution_count": 18,
   "metadata": {},
   "outputs": [
    {
     "name": "stdout",
     "output_type": "stream",
     "text": [
      "WE,THE PEOPLE OF INDIA,\n",
      "      having solemnly resolved to constitute India into a SOVEREIGN,!\n",
      "             SOCIALIST,SECULAR,DEMOCRATIC REPUBLIC\n",
      "              and to secure all its citizens\n"
     ]
    }
   ],
   "source": [
    "print('WE,THE PEOPLE OF INDIA,\\n      having solemnly resolved to constitute India into a SOVEREIGN,!\\n             SOCIALIST,SECULAR,DEMOCRATIC REPUBLIC\\n              and to secure all its citizens')"
   ]
  },
  {
   "cell_type": "code",
   "execution_count": null,
   "metadata": {},
   "outputs": [],
   "source": []
  }
 ],
 "metadata": {
  "kernelspec": {
   "display_name": "Python 3",
   "language": "python",
   "name": "python3"
  },
  "language_info": {
   "codemirror_mode": {
    "name": "ipython",
    "version": 3
   },
   "file_extension": ".py",
   "mimetype": "text/x-python",
   "name": "python",
   "nbconvert_exporter": "python",
   "pygments_lexer": "ipython3",
   "version": "3.7.4"
  }
 },
 "nbformat": 4,
 "nbformat_minor": 2
}
